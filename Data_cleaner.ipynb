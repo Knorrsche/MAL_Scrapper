{
 "cells": [
  {
   "cell_type": "code",
   "execution_count": 70,
   "id": "initial_id",
   "metadata": {
    "collapsed": true,
    "ExecuteTime": {
     "end_time": "2024-03-02T18:15:15.069019Z",
     "start_time": "2024-03-02T18:15:15.066839Z"
    }
   },
   "outputs": [],
   "source": [
    "import pandas as pd\n",
    "import numpy as np\n",
    "import replacement"
   ]
  },
  {
   "cell_type": "code",
   "outputs": [
    {
     "data": {
      "text/plain": "      Unnamed: 0  Rank                                         Title   Type  \\\n0              0     1                             Sousou no Frieren     TV   \n1              1     2              Fullmetal Alchemist: Brotherhood     TV   \n2              2     3                                   Steins;Gate     TV   \n3              3     4                                      Gintama°     TV   \n4              4     5            Shingeki no Kyojin Season 3 Part 2     TV   \n...          ...   ...                                           ...    ...   \n2995        2995  2982                                   Break Blade     TV   \n2996        2996  2989                               Erementar Gerad     TV   \n2997        2997  3000                                 Clannad Movie  Movie   \n2998        2998  2999  Boku no Hero Academia: Sukue! Kyuujo Kunren!    OVA   \n2999        2999  2998              Beelzebub-jou no Okinimesu mama.     TV   \n\n     Type_count Date_start  Date_end    Members  Score  \n0            28   01.09.23  Mar 2024    557,553   9.14  \n1            64   01.04.09  01.07.10  3,310,183   9.09  \n2            24   01.04.11  01.09.11  2,538,564   9.07  \n3            51   01.04.15  Mar 2016    624,001   9.06  \n4            10   01.04.19  01.07.19  2,244,066   9.05  \n...         ...        ...       ...        ...    ...  \n2995         12   01.04.14  01.06.14     95,021   7.24  \n2996         26   01.04.05  01.09.05     95,518   7.24  \n2997          1   01.09.07  01.09.07    175,769   7.23  \n2998          1   01.04.17  01.04.17    180,091   7.23  \n2999         12   Oct 2018  Dec 2018     96,428   7.23  \n\n[3000 rows x 9 columns]",
      "text/html": "<div>\n<style scoped>\n    .dataframe tbody tr th:only-of-type {\n        vertical-align: middle;\n    }\n\n    .dataframe tbody tr th {\n        vertical-align: top;\n    }\n\n    .dataframe thead th {\n        text-align: right;\n    }\n</style>\n<table border=\"1\" class=\"dataframe\">\n  <thead>\n    <tr style=\"text-align: right;\">\n      <th></th>\n      <th>Unnamed: 0</th>\n      <th>Rank</th>\n      <th>Title</th>\n      <th>Type</th>\n      <th>Type_count</th>\n      <th>Date_start</th>\n      <th>Date_end</th>\n      <th>Members</th>\n      <th>Score</th>\n    </tr>\n  </thead>\n  <tbody>\n    <tr>\n      <th>0</th>\n      <td>0</td>\n      <td>1</td>\n      <td>Sousou no Frieren</td>\n      <td>TV</td>\n      <td>28</td>\n      <td>01.09.23</td>\n      <td>Mar 2024</td>\n      <td>557,553</td>\n      <td>9.14</td>\n    </tr>\n    <tr>\n      <th>1</th>\n      <td>1</td>\n      <td>2</td>\n      <td>Fullmetal Alchemist: Brotherhood</td>\n      <td>TV</td>\n      <td>64</td>\n      <td>01.04.09</td>\n      <td>01.07.10</td>\n      <td>3,310,183</td>\n      <td>9.09</td>\n    </tr>\n    <tr>\n      <th>2</th>\n      <td>2</td>\n      <td>3</td>\n      <td>Steins;Gate</td>\n      <td>TV</td>\n      <td>24</td>\n      <td>01.04.11</td>\n      <td>01.09.11</td>\n      <td>2,538,564</td>\n      <td>9.07</td>\n    </tr>\n    <tr>\n      <th>3</th>\n      <td>3</td>\n      <td>4</td>\n      <td>Gintama°</td>\n      <td>TV</td>\n      <td>51</td>\n      <td>01.04.15</td>\n      <td>Mar 2016</td>\n      <td>624,001</td>\n      <td>9.06</td>\n    </tr>\n    <tr>\n      <th>4</th>\n      <td>4</td>\n      <td>5</td>\n      <td>Shingeki no Kyojin Season 3 Part 2</td>\n      <td>TV</td>\n      <td>10</td>\n      <td>01.04.19</td>\n      <td>01.07.19</td>\n      <td>2,244,066</td>\n      <td>9.05</td>\n    </tr>\n    <tr>\n      <th>...</th>\n      <td>...</td>\n      <td>...</td>\n      <td>...</td>\n      <td>...</td>\n      <td>...</td>\n      <td>...</td>\n      <td>...</td>\n      <td>...</td>\n      <td>...</td>\n    </tr>\n    <tr>\n      <th>2995</th>\n      <td>2995</td>\n      <td>2982</td>\n      <td>Break Blade</td>\n      <td>TV</td>\n      <td>12</td>\n      <td>01.04.14</td>\n      <td>01.06.14</td>\n      <td>95,021</td>\n      <td>7.24</td>\n    </tr>\n    <tr>\n      <th>2996</th>\n      <td>2996</td>\n      <td>2989</td>\n      <td>Erementar Gerad</td>\n      <td>TV</td>\n      <td>26</td>\n      <td>01.04.05</td>\n      <td>01.09.05</td>\n      <td>95,518</td>\n      <td>7.24</td>\n    </tr>\n    <tr>\n      <th>2997</th>\n      <td>2997</td>\n      <td>3000</td>\n      <td>Clannad Movie</td>\n      <td>Movie</td>\n      <td>1</td>\n      <td>01.09.07</td>\n      <td>01.09.07</td>\n      <td>175,769</td>\n      <td>7.23</td>\n    </tr>\n    <tr>\n      <th>2998</th>\n      <td>2998</td>\n      <td>2999</td>\n      <td>Boku no Hero Academia: Sukue! Kyuujo Kunren!</td>\n      <td>OVA</td>\n      <td>1</td>\n      <td>01.04.17</td>\n      <td>01.04.17</td>\n      <td>180,091</td>\n      <td>7.23</td>\n    </tr>\n    <tr>\n      <th>2999</th>\n      <td>2999</td>\n      <td>2998</td>\n      <td>Beelzebub-jou no Okinimesu mama.</td>\n      <td>TV</td>\n      <td>12</td>\n      <td>Oct 2018</td>\n      <td>Dec 2018</td>\n      <td>96,428</td>\n      <td>7.23</td>\n    </tr>\n  </tbody>\n</table>\n<p>3000 rows × 9 columns</p>\n</div>"
     },
     "execution_count": 71,
     "metadata": {},
     "output_type": "execute_result"
    }
   ],
   "source": [
    "df = pd.read_csv('top3000_animes.csv')\n",
    "df"
   ],
   "metadata": {
    "collapsed": false,
    "ExecuteTime": {
     "end_time": "2024-03-02T18:15:15.091151Z",
     "start_time": "2024-03-02T18:15:15.077810Z"
    }
   },
   "id": "a8906e3036d94727",
   "execution_count": 71
  },
  {
   "cell_type": "code",
   "outputs": [],
   "source": [
    "def formatter(date):\n",
    "    if date =='Jan': return '01'\n",
    "    if date =='Feb': return '02'\n",
    "    if date =='Mar': return '03'\n",
    "    if date =='Apr': return '04'\n",
    "    if date =='May': return '05'\n",
    "    if date =='Jun': return '06'\n",
    "    if date =='Jul': return '07'\n",
    "    if date =='Aug': return '08'\n",
    "    if date =='Sep': return '09'\n",
    "    if date =='Oct': return '10'\n",
    "    if date =='Nov': return '11'\n",
    "    if date =='Dec': return '12'\n",
    "    raise ValueError('Invalid date format')"
   ],
   "metadata": {
    "collapsed": false,
    "ExecuteTime": {
     "end_time": "2024-03-02T18:15:15.094901Z",
     "start_time": "2024-03-02T18:15:15.092034Z"
    }
   },
   "id": "e4ae06ec20ca28bc",
   "execution_count": 72
  },
  {
   "cell_type": "code",
   "outputs": [
    {
     "name": "stdout",
     "output_type": "stream",
     "text": [
      "[]\n"
     ]
    }
   ],
   "source": [
    "import re\n",
    "import datetime\n",
    "\n",
    "column = df['Date_start']\n",
    "date_column = column.values\n",
    "date_column = [date if date is not np.NaN else '01.01.1970' for date in date_column]\n",
    "\n",
    "pattern_correct = r'^\\d{2}\\.\\d{2}\\.\\d{4}$'\n",
    "pattern_incorrect = r'^([A-Za-z]{3} )?\\d{4}$'\n",
    "pattern_correct_end = r'\\.\\d{4}$'\n",
    "invalid_dates = []\n",
    "\n",
    "for i in range(len(date_column)):  \n",
    "    if isinstance(date_column[i], str):\n",
    "        if re.search(pattern_incorrect,date_column[i]):\n",
    "            splitted_date = date_column[i].split(' ')\n",
    "            if len(splitted_date) == 1:\n",
    "                date_column[i] = f'01.01.{splitted_date[0]}'\n",
    "            else:\n",
    "                date_column[i] = f'01.{formatter(splitted_date[0])}.{splitted_date[1]}'\n",
    "        if not re.search(pattern_correct_end,date_column[i]):\n",
    "            splitted_date = date_column[i].split('.')\n",
    "            current_year = datetime.datetime.today().year\n",
    "            last_year_indexes = str(current_year)[-2:]\n",
    "            if int(splitted_date[2]) > int(last_year_indexes):\n",
    "                date_column[i] = f'{splitted_date[0]}.{splitted_date[1]}.19{splitted_date[2]}'\n",
    "            else:\n",
    "                date_column[i] = f'{splitted_date[0]}.{splitted_date[1]}.20{splitted_date[2]}'\n",
    "        \n",
    "        if not re.search(pattern_correct,date_column[i]):\n",
    "            invalid_dates.append(date_column[i])\n",
    "df['Date_start'] = date_column\n",
    "print(invalid_dates)\n"
   ],
   "metadata": {
    "collapsed": false,
    "ExecuteTime": {
     "end_time": "2024-03-02T18:15:15.120113Z",
     "start_time": "2024-03-02T18:15:15.098970Z"
    }
   },
   "id": "4604b69677306dc4",
   "execution_count": 73
  },
  {
   "cell_type": "code",
   "outputs": [
    {
     "name": "stdout",
     "output_type": "stream",
     "text": [
      "[]\n"
     ]
    }
   ],
   "source": [
    "column = df['Date_end']\n",
    "date_column = column.values\n",
    "date_column = [date if date is not np.NaN else '01.01.1970' for date in date_column]\n",
    "\n",
    "\n",
    "invalid_dates = []\n",
    "\n",
    "for i in range(len(date_column)):    \n",
    "    \n",
    "    if isinstance(date_column[i], str):\n",
    "        \n",
    "        if re.search(pattern_incorrect,date_column[i]):\n",
    "            splitted_date = date_column[i].split(' ')\n",
    "           \n",
    "            if len(splitted_date) == 1:\n",
    "                date_column[i] = f'01.01.{splitted_date[0]}'\n",
    "            \n",
    "            else:\n",
    "                date_column[i] = f'01.{formatter(splitted_date[0])}.{splitted_date[1]}'\n",
    "        \n",
    "        if not re.search(pattern_correct_end,date_column[i]):\n",
    "            splitted_date = date_column[i].split('.')\n",
    "            current_year = datetime.datetime.today().year\n",
    "            last_year_indexes = str(current_year)[-2:]\n",
    "            if int(splitted_date[2]) > int(last_year_indexes):\n",
    "                date_column[i] = f'{splitted_date[0]}.{splitted_date[1]}.19{splitted_date[2]}'\n",
    "            else:\n",
    "                date_column[i] = f'{splitted_date[0]}.{splitted_date[1]}.20{splitted_date[2]}'\n",
    "        if not re.search(pattern_correct,date_column[i]):\n",
    "            invalid_dates.append(date_column[i])\n",
    "\n",
    "df['Date_end'] = date_column\n",
    "print(invalid_dates)\n"
   ],
   "metadata": {
    "collapsed": false,
    "ExecuteTime": {
     "end_time": "2024-03-02T18:15:15.143140Z",
     "start_time": "2024-03-02T18:15:15.121131Z"
    }
   },
   "id": "3b1f3b2138d2e3eb",
   "execution_count": 74
  },
  {
   "cell_type": "code",
   "outputs": [],
   "source": [
    "column = df['Members']\n",
    "member_columns = column.values\n",
    "\n",
    "df['Members'] = [member.replace(',','') for member in member_columns]"
   ],
   "metadata": {
    "collapsed": false,
    "ExecuteTime": {
     "end_time": "2024-03-02T18:15:15.150104Z",
     "start_time": "2024-03-02T18:15:15.144438Z"
    }
   },
   "id": "98ac926d613c9141",
   "execution_count": 75
  },
  {
   "cell_type": "code",
   "outputs": [],
   "source": [
    "column = df['Score']\n",
    "score_columns = column.values\n",
    "\n",
    "df['Score'] = [str(score).replace('.',',') for score in score_columns]"
   ],
   "metadata": {
    "collapsed": false,
    "ExecuteTime": {
     "end_time": "2024-03-02T18:15:15.194295Z",
     "start_time": "2024-03-02T18:15:15.190581Z"
    }
   },
   "id": "da83a51a57cce2d7",
   "execution_count": 76
  },
  {
   "cell_type": "code",
   "outputs": [],
   "source": [
    "df.drop('Unnamed: 0', axis=1, inplace=True)"
   ],
   "metadata": {
    "collapsed": false,
    "ExecuteTime": {
     "end_time": "2024-03-02T18:15:15.265967Z",
     "start_time": "2024-03-02T18:15:15.262394Z"
    }
   },
   "id": "25c37b54fb7c216f",
   "execution_count": 77
  },
  {
   "cell_type": "code",
   "outputs": [
    {
     "data": {
      "text/plain": "      Rank                                         Title   Type Type_count  \\\n0        1                             Sousou no Frieren     TV         28   \n1        2              Fullmetal Alchemist: Brotherhood     TV         64   \n2        3                                   Steins;Gate     TV         24   \n3        4                                      Gintama°     TV         51   \n4        5            Shingeki no Kyojin Season 3 Part 2     TV         10   \n...    ...                                           ...    ...        ...   \n2995  2982                                   Break Blade     TV         12   \n2996  2989                               Erementar Gerad     TV         26   \n2997  3000                                 Clannad Movie  Movie          1   \n2998  2999  Boku no Hero Academia: Sukue! Kyuujo Kunren!    OVA          1   \n2999  2998              Beelzebub-jou no Okinimesu mama.     TV         12   \n\n      Date_start    Date_end  Members Score  \n0     01.09.2023  01.03.2024   557553  9,14  \n1     01.04.2009  01.07.2010  3310183  9,09  \n2     01.04.2011  01.09.2011  2538564  9,07  \n3     01.04.2015  01.03.2016   624001  9,06  \n4     01.04.2019  01.07.2019  2244066  9,05  \n...          ...         ...      ...   ...  \n2995  01.04.2014  01.06.2014    95021  7,24  \n2996  01.04.2005  01.09.2005    95518  7,24  \n2997  01.09.2007  01.09.2007   175769  7,23  \n2998  01.04.2017  01.04.2017   180091  7,23  \n2999  01.10.2018  01.12.2018    96428  7,23  \n\n[3000 rows x 8 columns]",
      "text/html": "<div>\n<style scoped>\n    .dataframe tbody tr th:only-of-type {\n        vertical-align: middle;\n    }\n\n    .dataframe tbody tr th {\n        vertical-align: top;\n    }\n\n    .dataframe thead th {\n        text-align: right;\n    }\n</style>\n<table border=\"1\" class=\"dataframe\">\n  <thead>\n    <tr style=\"text-align: right;\">\n      <th></th>\n      <th>Rank</th>\n      <th>Title</th>\n      <th>Type</th>\n      <th>Type_count</th>\n      <th>Date_start</th>\n      <th>Date_end</th>\n      <th>Members</th>\n      <th>Score</th>\n    </tr>\n  </thead>\n  <tbody>\n    <tr>\n      <th>0</th>\n      <td>1</td>\n      <td>Sousou no Frieren</td>\n      <td>TV</td>\n      <td>28</td>\n      <td>01.09.2023</td>\n      <td>01.03.2024</td>\n      <td>557553</td>\n      <td>9,14</td>\n    </tr>\n    <tr>\n      <th>1</th>\n      <td>2</td>\n      <td>Fullmetal Alchemist: Brotherhood</td>\n      <td>TV</td>\n      <td>64</td>\n      <td>01.04.2009</td>\n      <td>01.07.2010</td>\n      <td>3310183</td>\n      <td>9,09</td>\n    </tr>\n    <tr>\n      <th>2</th>\n      <td>3</td>\n      <td>Steins;Gate</td>\n      <td>TV</td>\n      <td>24</td>\n      <td>01.04.2011</td>\n      <td>01.09.2011</td>\n      <td>2538564</td>\n      <td>9,07</td>\n    </tr>\n    <tr>\n      <th>3</th>\n      <td>4</td>\n      <td>Gintama°</td>\n      <td>TV</td>\n      <td>51</td>\n      <td>01.04.2015</td>\n      <td>01.03.2016</td>\n      <td>624001</td>\n      <td>9,06</td>\n    </tr>\n    <tr>\n      <th>4</th>\n      <td>5</td>\n      <td>Shingeki no Kyojin Season 3 Part 2</td>\n      <td>TV</td>\n      <td>10</td>\n      <td>01.04.2019</td>\n      <td>01.07.2019</td>\n      <td>2244066</td>\n      <td>9,05</td>\n    </tr>\n    <tr>\n      <th>...</th>\n      <td>...</td>\n      <td>...</td>\n      <td>...</td>\n      <td>...</td>\n      <td>...</td>\n      <td>...</td>\n      <td>...</td>\n      <td>...</td>\n    </tr>\n    <tr>\n      <th>2995</th>\n      <td>2982</td>\n      <td>Break Blade</td>\n      <td>TV</td>\n      <td>12</td>\n      <td>01.04.2014</td>\n      <td>01.06.2014</td>\n      <td>95021</td>\n      <td>7,24</td>\n    </tr>\n    <tr>\n      <th>2996</th>\n      <td>2989</td>\n      <td>Erementar Gerad</td>\n      <td>TV</td>\n      <td>26</td>\n      <td>01.04.2005</td>\n      <td>01.09.2005</td>\n      <td>95518</td>\n      <td>7,24</td>\n    </tr>\n    <tr>\n      <th>2997</th>\n      <td>3000</td>\n      <td>Clannad Movie</td>\n      <td>Movie</td>\n      <td>1</td>\n      <td>01.09.2007</td>\n      <td>01.09.2007</td>\n      <td>175769</td>\n      <td>7,23</td>\n    </tr>\n    <tr>\n      <th>2998</th>\n      <td>2999</td>\n      <td>Boku no Hero Academia: Sukue! Kyuujo Kunren!</td>\n      <td>OVA</td>\n      <td>1</td>\n      <td>01.04.2017</td>\n      <td>01.04.2017</td>\n      <td>180091</td>\n      <td>7,23</td>\n    </tr>\n    <tr>\n      <th>2999</th>\n      <td>2998</td>\n      <td>Beelzebub-jou no Okinimesu mama.</td>\n      <td>TV</td>\n      <td>12</td>\n      <td>01.10.2018</td>\n      <td>01.12.2018</td>\n      <td>96428</td>\n      <td>7,23</td>\n    </tr>\n  </tbody>\n</table>\n<p>3000 rows × 8 columns</p>\n</div>"
     },
     "execution_count": 78,
     "metadata": {},
     "output_type": "execute_result"
    }
   ],
   "source": [
    "df"
   ],
   "metadata": {
    "collapsed": false,
    "ExecuteTime": {
     "end_time": "2024-03-02T18:15:15.286881Z",
     "start_time": "2024-03-02T18:15:15.276447Z"
    }
   },
   "id": "f90682fbb82af6fa",
   "execution_count": 78
  },
  {
   "cell_type": "code",
   "outputs": [],
   "source": [
    "df.to_csv('Data_cleaned.csv')"
   ],
   "metadata": {
    "collapsed": false,
    "ExecuteTime": {
     "end_time": "2024-03-02T18:15:15.448612Z",
     "start_time": "2024-03-02T18:15:15.423679Z"
    }
   },
   "id": "ab818106a1299065",
   "execution_count": 79
  },
  {
   "cell_type": "code",
   "outputs": [],
   "source": [],
   "metadata": {
    "collapsed": false,
    "ExecuteTime": {
     "end_time": "2024-03-02T18:15:15.452028Z",
     "start_time": "2024-03-02T18:15:15.449988Z"
    }
   },
   "id": "3cd54d932e07d534",
   "execution_count": 79
  }
 ],
 "metadata": {
  "kernelspec": {
   "display_name": "Python 3",
   "language": "python",
   "name": "python3"
  },
  "language_info": {
   "codemirror_mode": {
    "name": "ipython",
    "version": 2
   },
   "file_extension": ".py",
   "mimetype": "text/x-python",
   "name": "python",
   "nbconvert_exporter": "python",
   "pygments_lexer": "ipython2",
   "version": "2.7.6"
  }
 },
 "nbformat": 4,
 "nbformat_minor": 5
}
