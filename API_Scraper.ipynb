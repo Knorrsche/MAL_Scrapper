{
 "cells": [
  {
   "cell_type": "code",
   "execution_count": 89,
   "id": "initial_id",
   "metadata": {
    "collapsed": true,
    "ExecuteTime": {
     "end_time": "2024-03-07T15:38:22.656888Z",
     "start_time": "2024-03-07T15:38:22.653951Z"
    }
   },
   "outputs": [],
   "source": [
    "import random\n",
    "import requests\n",
    "import pandas as pd\n",
    "import re\n",
    "import time"
   ]
  },
  {
   "cell_type": "code",
   "outputs": [],
   "source": [
    "anime_list = []\n",
    "for x in range(1,251,1):\n",
    "    if x != 1:\n",
    "        time.sleep(random.randint(5,10))\n",
    "    response = requests.get(f'https://api.jikan.moe/v4/top/anime?page={x}')\n",
    "    \n",
    "    json_data = response.json()\n",
    "    \n",
    "    # json data consists of 'pagination' and 'data'\n",
    "    for entry in json_data['data']:\n",
    "        \n",
    "        # Find airing dates\n",
    "        try:\n",
    "            from_date = pd.Timestamp(year=entry['aired']['prop']['from']['year'],month=entry['aired']['prop']['from']['month'],day=entry['aired']['prop']['from']['day'])\n",
    "        except TypeError:\n",
    "            from_date = pd.NaT\n",
    "        \n",
    "        try:\n",
    "            to_date = pd.Timestamp(year=entry['aired']['prop']['to']['year'],month=entry['aired']['prop']['to']['month'],day=entry['aired']['prop']['to']['day'])\n",
    "        except TypeError:\n",
    "            to_date = pd.NaT\n",
    "        \n",
    "        # Find duration    \n",
    "        duration = 0;\n",
    "        hours = re.findall(r'\\d+ ? h', entry['duration'])\n",
    "        if len(hours) > 0:\n",
    "            converted_hours = re.findall(r'\\d+',hours[0])\n",
    "            if len(converted_hours) > 0:\n",
    "                duration =+ int(converted_hours[0])*60\n",
    "                \n",
    "        minutes = re.findall(r'\\d+ ?m', entry['duration'])\n",
    "        if len(minutes) > 0:\n",
    "            found_minutes = re.findall(r'\\d+',minutes[0])\n",
    "            if len(found_minutes) > 0:\n",
    "                duration+= int(found_minutes[0])\n",
    "        \n",
    "        # Create list for genres\n",
    "        genre_list = []\n",
    "        for genre in entry['genres']:\n",
    "            genre_list.append(genre['name'])\n",
    "            \n",
    "        # Create list for themes\n",
    "        theme_list = []\n",
    "        for theme in entry['themes']:\n",
    "            theme_list.append(theme['name'])\n",
    "            \n",
    "        # Create list for demographic\n",
    "        demographic_list = []\n",
    "        for demographic in entry['demographics']:\n",
    "            demographic_list.append(demographic['name'])\n",
    "            \n",
    "            \n",
    "        anime = [entry['titles'][0]['title'], entry['type'], entry['source'], entry['episodes'],\n",
    "                 entry['status'], from_date, to_date,duration,entry['rating'],entry['score'],entry['scored_by'],\n",
    "                 entry['rank'],entry['popularity'],entry['members'],entry['favorites'],entry['season'],\n",
    "                 entry['year'],genre_list,theme_list,demographic_list]\n",
    "        \n",
    "        anime_list.append(anime)"
   ],
   "metadata": {
    "collapsed": false,
    "ExecuteTime": {
     "end_time": "2024-03-07T16:11:04.956108Z",
     "start_time": "2024-03-07T15:38:22.661503Z"
    }
   },
   "id": "a2d3645b0e9a4fc5",
   "execution_count": 90
  },
  {
   "cell_type": "code",
   "outputs": [
    {
     "data": {
      "text/plain": "                                                  Title Type        Source  \\\n0                                     Sousou no Frieren   TV         Manga   \n1                      Fullmetal Alchemist: Brotherhood   TV         Manga   \n2                                           Steins;Gate   TV  Visual novel   \n3                                              Gintama°   TV         Manga   \n4                    Shingeki no Kyojin Season 3 Part 2   TV         Manga   \n...                                                 ...  ...           ...   \n6245                          Choujikuu Seiki Orguss 02  OVA      Original   \n6246                          Shin Don Chuck Monogatari   TV       Unknown   \n6247                                      Cutie Honey F   TV         Manga   \n6248                        Sabu to Ichi Torimono Hikae   TV         Manga   \n6249  Chuukou Ikkan!! Kimetsu Gakuen Monogatari: Val...  ONA         Manga   \n\n      Episodes            Status Started At   Ended At  Duration in Minutes  \\\n0         28.0  Currently Airing 2023-09-29 2024-03-22                   24   \n1         64.0   Finished Airing 2009-04-05 2010-07-04                   24   \n2         24.0   Finished Airing 2011-04-06 2011-09-14                   24   \n3         51.0   Finished Airing 2015-04-08 2016-03-30                   24   \n4         10.0   Finished Airing 2019-04-29 2019-07-01                   23   \n...        ...               ...        ...        ...                  ...   \n6245       6.0   Finished Airing 1993-12-05 1995-04-25                   30   \n6246      73.0   Finished Airing 1976-04-07 1978-03-25                   25   \n6247      39.0   Finished Airing 1997-02-15 1998-01-31                   23   \n6248      52.0   Finished Airing 1968-10-03 1969-09-24                   25   \n6249       4.0   Finished Airing 2021-02-14        NaT                    2   \n\n                              Rating  Score  Scored By  Score Rank  \\\n0          PG-13 - Teens 13 or older   9.15     189697         1.0   \n1     R - 17+ (violence & profanity)   9.09    2100761         2.0   \n2          PG-13 - Teens 13 or older   9.07    1387448         3.0   \n3          PG-13 - Teens 13 or older   9.06     248787         4.0   \n4     R - 17+ (violence & profanity)   9.05    1567159         5.0   \n...                              ...    ...        ...         ...   \n6245       PG-13 - Teens 13 or older   6.69       1259      5635.0   \n6246                    G - All Ages   6.69        365      5682.0   \n6247       PG-13 - Teens 13 or older   6.69       2570      5636.0   \n6248  R - 17+ (violence & profanity)   6.69        374      5665.0   \n6249       PG-13 - Teens 13 or older   6.69      22460      5637.0   \n\n      Popularity Rank  Members  Favorites  Season    Year  \\\n0                 379   566535      20720    fall  2023.0   \n1                   3  3312847     224338  spring  2009.0   \n2                  13  2540312     188400  spring  2011.0   \n3                 338   624445      16538  spring  2015.0   \n4                  21  2246431      58151  spring  2019.0   \n...               ...      ...        ...     ...     ...   \n6245             9113     3851         11    None     NaN   \n6246            13984      824          3  spring  1976.0   \n6247             6246    10252         34  winter  1997.0   \n6248            10363     2551          9    fall  1968.0   \n6249             3220    45886        122    None     NaN   \n\n                                                  Genre  \\\n0                           [Adventure, Drama, Fantasy]   \n1                   [Action, Adventure, Drama, Fantasy]   \n2                             [Drama, Sci-Fi, Suspense]   \n3                              [Action, Comedy, Sci-Fi]   \n4                             [Action, Drama, Suspense]   \n...                                                 ...   \n6245               [Action, Adventure, Romance, Sci-Fi]   \n6246                         [Adventure, Slice of Life]   \n6247  [Action, Adventure, Comedy, Romance, Sci-Fi, E...   \n6248          [Action, Adventure, Drama, Slice of Life]   \n6249                                           [Comedy]   \n\n                                               Theme Demographic  \n0                                                 []   [Shounen]  \n1                                         [Military]   [Shounen]  \n2                       [Psychological, Time Travel]          []  \n3           [Gag Humor, Historical, Parody, Samurai]   [Shounen]  \n4                         [Gore, Military, Survival]   [Shounen]  \n...                                              ...         ...  \n6245                                         [Mecha]          []  \n6246                                              []      [Kids]  \n6247                                              []    [Shoujo]  \n6248  [Detective, Historical, Martial Arts, Samurai]   [Shounen]  \n6249                                              []          []  \n\n[6250 rows x 20 columns]",
      "text/html": "<div>\n<style scoped>\n    .dataframe tbody tr th:only-of-type {\n        vertical-align: middle;\n    }\n\n    .dataframe tbody tr th {\n        vertical-align: top;\n    }\n\n    .dataframe thead th {\n        text-align: right;\n    }\n</style>\n<table border=\"1\" class=\"dataframe\">\n  <thead>\n    <tr style=\"text-align: right;\">\n      <th></th>\n      <th>Title</th>\n      <th>Type</th>\n      <th>Source</th>\n      <th>Episodes</th>\n      <th>Status</th>\n      <th>Started At</th>\n      <th>Ended At</th>\n      <th>Duration in Minutes</th>\n      <th>Rating</th>\n      <th>Score</th>\n      <th>Scored By</th>\n      <th>Score Rank</th>\n      <th>Popularity Rank</th>\n      <th>Members</th>\n      <th>Favorites</th>\n      <th>Season</th>\n      <th>Year</th>\n      <th>Genre</th>\n      <th>Theme</th>\n      <th>Demographic</th>\n    </tr>\n  </thead>\n  <tbody>\n    <tr>\n      <th>0</th>\n      <td>Sousou no Frieren</td>\n      <td>TV</td>\n      <td>Manga</td>\n      <td>28.0</td>\n      <td>Currently Airing</td>\n      <td>2023-09-29</td>\n      <td>2024-03-22</td>\n      <td>24</td>\n      <td>PG-13 - Teens 13 or older</td>\n      <td>9.15</td>\n      <td>189697</td>\n      <td>1.0</td>\n      <td>379</td>\n      <td>566535</td>\n      <td>20720</td>\n      <td>fall</td>\n      <td>2023.0</td>\n      <td>[Adventure, Drama, Fantasy]</td>\n      <td>[]</td>\n      <td>[Shounen]</td>\n    </tr>\n    <tr>\n      <th>1</th>\n      <td>Fullmetal Alchemist: Brotherhood</td>\n      <td>TV</td>\n      <td>Manga</td>\n      <td>64.0</td>\n      <td>Finished Airing</td>\n      <td>2009-04-05</td>\n      <td>2010-07-04</td>\n      <td>24</td>\n      <td>R - 17+ (violence &amp; profanity)</td>\n      <td>9.09</td>\n      <td>2100761</td>\n      <td>2.0</td>\n      <td>3</td>\n      <td>3312847</td>\n      <td>224338</td>\n      <td>spring</td>\n      <td>2009.0</td>\n      <td>[Action, Adventure, Drama, Fantasy]</td>\n      <td>[Military]</td>\n      <td>[Shounen]</td>\n    </tr>\n    <tr>\n      <th>2</th>\n      <td>Steins;Gate</td>\n      <td>TV</td>\n      <td>Visual novel</td>\n      <td>24.0</td>\n      <td>Finished Airing</td>\n      <td>2011-04-06</td>\n      <td>2011-09-14</td>\n      <td>24</td>\n      <td>PG-13 - Teens 13 or older</td>\n      <td>9.07</td>\n      <td>1387448</td>\n      <td>3.0</td>\n      <td>13</td>\n      <td>2540312</td>\n      <td>188400</td>\n      <td>spring</td>\n      <td>2011.0</td>\n      <td>[Drama, Sci-Fi, Suspense]</td>\n      <td>[Psychological, Time Travel]</td>\n      <td>[]</td>\n    </tr>\n    <tr>\n      <th>3</th>\n      <td>Gintama°</td>\n      <td>TV</td>\n      <td>Manga</td>\n      <td>51.0</td>\n      <td>Finished Airing</td>\n      <td>2015-04-08</td>\n      <td>2016-03-30</td>\n      <td>24</td>\n      <td>PG-13 - Teens 13 or older</td>\n      <td>9.06</td>\n      <td>248787</td>\n      <td>4.0</td>\n      <td>338</td>\n      <td>624445</td>\n      <td>16538</td>\n      <td>spring</td>\n      <td>2015.0</td>\n      <td>[Action, Comedy, Sci-Fi]</td>\n      <td>[Gag Humor, Historical, Parody, Samurai]</td>\n      <td>[Shounen]</td>\n    </tr>\n    <tr>\n      <th>4</th>\n      <td>Shingeki no Kyojin Season 3 Part 2</td>\n      <td>TV</td>\n      <td>Manga</td>\n      <td>10.0</td>\n      <td>Finished Airing</td>\n      <td>2019-04-29</td>\n      <td>2019-07-01</td>\n      <td>23</td>\n      <td>R - 17+ (violence &amp; profanity)</td>\n      <td>9.05</td>\n      <td>1567159</td>\n      <td>5.0</td>\n      <td>21</td>\n      <td>2246431</td>\n      <td>58151</td>\n      <td>spring</td>\n      <td>2019.0</td>\n      <td>[Action, Drama, Suspense]</td>\n      <td>[Gore, Military, Survival]</td>\n      <td>[Shounen]</td>\n    </tr>\n    <tr>\n      <th>...</th>\n      <td>...</td>\n      <td>...</td>\n      <td>...</td>\n      <td>...</td>\n      <td>...</td>\n      <td>...</td>\n      <td>...</td>\n      <td>...</td>\n      <td>...</td>\n      <td>...</td>\n      <td>...</td>\n      <td>...</td>\n      <td>...</td>\n      <td>...</td>\n      <td>...</td>\n      <td>...</td>\n      <td>...</td>\n      <td>...</td>\n      <td>...</td>\n      <td>...</td>\n    </tr>\n    <tr>\n      <th>6245</th>\n      <td>Choujikuu Seiki Orguss 02</td>\n      <td>OVA</td>\n      <td>Original</td>\n      <td>6.0</td>\n      <td>Finished Airing</td>\n      <td>1993-12-05</td>\n      <td>1995-04-25</td>\n      <td>30</td>\n      <td>PG-13 - Teens 13 or older</td>\n      <td>6.69</td>\n      <td>1259</td>\n      <td>5635.0</td>\n      <td>9113</td>\n      <td>3851</td>\n      <td>11</td>\n      <td>None</td>\n      <td>NaN</td>\n      <td>[Action, Adventure, Romance, Sci-Fi]</td>\n      <td>[Mecha]</td>\n      <td>[]</td>\n    </tr>\n    <tr>\n      <th>6246</th>\n      <td>Shin Don Chuck Monogatari</td>\n      <td>TV</td>\n      <td>Unknown</td>\n      <td>73.0</td>\n      <td>Finished Airing</td>\n      <td>1976-04-07</td>\n      <td>1978-03-25</td>\n      <td>25</td>\n      <td>G - All Ages</td>\n      <td>6.69</td>\n      <td>365</td>\n      <td>5682.0</td>\n      <td>13984</td>\n      <td>824</td>\n      <td>3</td>\n      <td>spring</td>\n      <td>1976.0</td>\n      <td>[Adventure, Slice of Life]</td>\n      <td>[]</td>\n      <td>[Kids]</td>\n    </tr>\n    <tr>\n      <th>6247</th>\n      <td>Cutie Honey F</td>\n      <td>TV</td>\n      <td>Manga</td>\n      <td>39.0</td>\n      <td>Finished Airing</td>\n      <td>1997-02-15</td>\n      <td>1998-01-31</td>\n      <td>23</td>\n      <td>PG-13 - Teens 13 or older</td>\n      <td>6.69</td>\n      <td>2570</td>\n      <td>5636.0</td>\n      <td>6246</td>\n      <td>10252</td>\n      <td>34</td>\n      <td>winter</td>\n      <td>1997.0</td>\n      <td>[Action, Adventure, Comedy, Romance, Sci-Fi, E...</td>\n      <td>[]</td>\n      <td>[Shoujo]</td>\n    </tr>\n    <tr>\n      <th>6248</th>\n      <td>Sabu to Ichi Torimono Hikae</td>\n      <td>TV</td>\n      <td>Manga</td>\n      <td>52.0</td>\n      <td>Finished Airing</td>\n      <td>1968-10-03</td>\n      <td>1969-09-24</td>\n      <td>25</td>\n      <td>R - 17+ (violence &amp; profanity)</td>\n      <td>6.69</td>\n      <td>374</td>\n      <td>5665.0</td>\n      <td>10363</td>\n      <td>2551</td>\n      <td>9</td>\n      <td>fall</td>\n      <td>1968.0</td>\n      <td>[Action, Adventure, Drama, Slice of Life]</td>\n      <td>[Detective, Historical, Martial Arts, Samurai]</td>\n      <td>[Shounen]</td>\n    </tr>\n    <tr>\n      <th>6249</th>\n      <td>Chuukou Ikkan!! Kimetsu Gakuen Monogatari: Val...</td>\n      <td>ONA</td>\n      <td>Manga</td>\n      <td>4.0</td>\n      <td>Finished Airing</td>\n      <td>2021-02-14</td>\n      <td>NaT</td>\n      <td>2</td>\n      <td>PG-13 - Teens 13 or older</td>\n      <td>6.69</td>\n      <td>22460</td>\n      <td>5637.0</td>\n      <td>3220</td>\n      <td>45886</td>\n      <td>122</td>\n      <td>None</td>\n      <td>NaN</td>\n      <td>[Comedy]</td>\n      <td>[]</td>\n      <td>[]</td>\n    </tr>\n  </tbody>\n</table>\n<p>6250 rows × 20 columns</p>\n</div>"
     },
     "execution_count": 91,
     "metadata": {},
     "output_type": "execute_result"
    }
   ],
   "source": [
    "headers = ['Title','Type','Source','Episodes','Status','Started At','Ended At','Duration in Minutes','Rating','Score','Scored By',\n",
    "           'Score Rank','Popularity Rank','Members','Favorites','Season','Year','Genre','Theme','Demographic']\n",
    "df = pd.DataFrame(anime_list,columns=headers)\n",
    "df"
   ],
   "metadata": {
    "collapsed": false,
    "ExecuteTime": {
     "end_time": "2024-03-07T16:11:05.056966Z",
     "start_time": "2024-03-07T16:11:04.958010Z"
    }
   },
   "id": "416c0e87dbbbb509",
   "execution_count": 91
  },
  {
   "cell_type": "code",
   "outputs": [],
   "source": [
    "df.to_csv('~/PycharmProjects/MAL_Scraper/anime_list.csv')"
   ],
   "metadata": {
    "collapsed": false,
    "ExecuteTime": {
     "end_time": "2024-03-07T16:11:05.135010Z",
     "start_time": "2024-03-07T16:11:05.058128Z"
    }
   },
   "id": "c40ff836d9cfe73a",
   "execution_count": 92
  },
  {
   "cell_type": "code",
   "outputs": [],
   "source": [],
   "metadata": {
    "collapsed": false,
    "ExecuteTime": {
     "end_time": "2024-03-07T16:11:05.139011Z",
     "start_time": "2024-03-07T16:11:05.136695Z"
    }
   },
   "id": "b11557713dfa3ee8",
   "execution_count": 92
  }
 ],
 "metadata": {
  "kernelspec": {
   "display_name": "Python 3",
   "language": "python",
   "name": "python3"
  },
  "language_info": {
   "codemirror_mode": {
    "name": "ipython",
    "version": 2
   },
   "file_extension": ".py",
   "mimetype": "text/x-python",
   "name": "python",
   "nbconvert_exporter": "python",
   "pygments_lexer": "ipython2",
   "version": "2.7.6"
  }
 },
 "nbformat": 4,
 "nbformat_minor": 5
}
