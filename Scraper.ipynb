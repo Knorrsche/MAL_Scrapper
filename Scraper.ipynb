{
 "cells": [
  {
   "cell_type": "code",
   "execution_count": 148,
   "id": "initial_id",
   "metadata": {
    "collapsed": true,
    "ExecuteTime": {
     "end_time": "2024-03-01T19:51:53.239925Z",
     "start_time": "2024-03-01T19:51:53.237129Z"
    }
   },
   "outputs": [],
   "source": [
    "from bs4 import BeautifulSoup\n",
    "import pandas as pd\n",
    "import requests\n",
    "import time"
   ]
  },
  {
   "cell_type": "code",
   "outputs": [],
   "source": [
    "url = 'https://myanimelist.net/topanime.php'\n",
    "page = requests.get(url)\n",
    "\n",
    "soup = BeautifulSoup(page.text,'html.parser')"
   ],
   "metadata": {
    "collapsed": false,
    "ExecuteTime": {
     "end_time": "2024-03-01T19:51:53.863489Z",
     "start_time": "2024-03-01T19:51:53.244027Z"
    }
   },
   "id": "14a35629712454ec",
   "execution_count": 149
  },
  {
   "cell_type": "code",
   "outputs": [
    {
     "name": "stdout",
     "output_type": "stream",
     "text": [
      "['Rank', 'Title', 'Score', 'Your Score', 'Status']\n",
      "['Rank', 'Title', 'Score']\n",
      "['Rank', 'Title', 'Type', 'Type_count', 'Date_start', 'Date_end', 'Members', 'Score']\n"
     ]
    }
   ],
   "source": [
    "top100 = soup.find('table',class_ ='top-ranking-table')\n",
    "header = top100.find('tr')\n",
    "header_titles = header.find_all('td')\n",
    "table_header_titles = [title.text for title in header_titles]\n",
    "print(table_header_titles)\n",
    "table_header_titles = table_header_titles[0:3]\n",
    "print(table_header_titles)\n",
    "table_header_titles.insert(2,\"Members\")\n",
    "table_header_titles.insert(2,\"Date_end\")\n",
    "table_header_titles.insert(2,\"Date_start\")\n",
    "table_header_titles.insert(2,\"Type_count\")\n",
    "table_header_titles.insert(2,\"Type\")\n",
    "print(table_header_titles)"
   ],
   "metadata": {
    "collapsed": false,
    "ExecuteTime": {
     "end_time": "2024-03-01T19:51:53.869974Z",
     "start_time": "2024-03-01T19:51:53.864307Z"
    }
   },
   "id": "a3c876057da9b71c",
   "execution_count": 150
  },
  {
   "cell_type": "code",
   "outputs": [],
   "source": [
    "top100_animes=[]\n",
    "for i in range(0,3000,50):\n",
    "    url = f'https://myanimelist.net/topanime.php?limit={i}'\n",
    "    time.sleep(10)\n",
    "    page = requests.get(url)\n",
    "    soup = BeautifulSoup(page.text,'html.parser')\n",
    "    top100 = soup.find('table',class_ ='top-ranking-table')\n",
    "    data_set = top100.find_all('tr',class_='ranking-list')\n",
    "    for data in data_set:\n",
    "        anime_data_row = []\n",
    "        anime_data_row.append(data.find('td',class_='rank ac').get_text().strip())\n",
    "        data_title =data.find('td',class_='title al va-t word-break').get_text().strip()\n",
    "        \n",
    "        splitted_data = data_title.split('\\n')\n",
    "        for counter,splitted_data_ in enumerate(splitted_data):\n",
    "            if counter == 0:\n",
    "                 anime_data_row.append(splitted_data_.strip())\n",
    "            elif counter == 1:\n",
    "                splitted_type = splitted_data_.split('(')\n",
    "                anime_data_row.append(splitted_type[0].strip())\n",
    "                anime_data_row.append(splitted_type[1].replace(')','').replace('eps','').strip())\n",
    "            elif counter == 2:\n",
    "                splitted_date = splitted_data_.split('-')\n",
    "                anime_data_row.append(splitted_date[0].strip())\n",
    "                if splitted_date[1] != '':\n",
    "                    anime_data_row.append(splitted_date[1].strip())\n",
    "            elif counter == 3:\n",
    "                anime_data_row.append(splitted_data_.replace('members','').strip())\n",
    "            else:\n",
    "                break\n",
    "                \n",
    "        anime_data_row.append(data.find('td',class_='score ac fs14').get_text().strip())\n",
    "        top100_animes.append(anime_data_row)\n",
    "        "
   ],
   "metadata": {
    "collapsed": false,
    "ExecuteTime": {
     "end_time": "2024-03-01T20:02:37.729867Z",
     "start_time": "2024-03-01T19:51:53.871567Z"
    }
   },
   "id": "1a923e880972c1dc",
   "execution_count": 151
  },
  {
   "cell_type": "code",
   "outputs": [
    {
     "data": {
      "text/plain": "      Rank                                              Title   Type  \\\n0        1                                  Sousou no Frieren     TV   \n1        2                   Fullmetal Alchemist: Brotherhood     TV   \n2        3                                        Steins;Gate     TV   \n3        4                                           Gintama°     TV   \n4        5                 Shingeki no Kyojin Season 3 Part 2     TV   \n...    ...                                                ...    ...   \n2995  2996  Hengen Taima Yakou Karura Mau! Sendai Kokeshi ...    OVA   \n2996  2997                               High School DxD Hero     TV   \n2997  2998                   Beelzebub-jou no Okinimesu mama.     TV   \n2998  2999       Boku no Hero Academia: Sukue! Kyuujo Kunren!    OVA   \n2999  3000                                      Clannad Movie  Movie   \n\n     Type_count Date_start  Date_end    Members Score  \n0            28   Sep 2023  Mar 2024    557,553  9.14  \n1            64   Apr 2009  Jul 2010  3,310,183  9.09  \n2            24   Apr 2011  Sep 2011  2,538,564  9.07  \n3            51   Apr 2015  Mar 2016    624,001  9.06  \n4            10   Apr 2019  Jul 2019  2,244,066  9.05  \n...         ...        ...       ...        ...   ...  \n2995          6   Sep 1990  Mar 1991      1,510  7.24  \n2996         12   Apr 2018  Jul 2018    503,734  7.24  \n2997         12   Oct 2018  Dec 2018     96,428  7.23  \n2998          1   Apr 2017  Apr 2017    180,091  7.23  \n2999          1   Sep 2007  Sep 2007    175,769  7.23  \n\n[3000 rows x 8 columns]",
      "text/html": "<div>\n<style scoped>\n    .dataframe tbody tr th:only-of-type {\n        vertical-align: middle;\n    }\n\n    .dataframe tbody tr th {\n        vertical-align: top;\n    }\n\n    .dataframe thead th {\n        text-align: right;\n    }\n</style>\n<table border=\"1\" class=\"dataframe\">\n  <thead>\n    <tr style=\"text-align: right;\">\n      <th></th>\n      <th>Rank</th>\n      <th>Title</th>\n      <th>Type</th>\n      <th>Type_count</th>\n      <th>Date_start</th>\n      <th>Date_end</th>\n      <th>Members</th>\n      <th>Score</th>\n    </tr>\n  </thead>\n  <tbody>\n    <tr>\n      <th>0</th>\n      <td>1</td>\n      <td>Sousou no Frieren</td>\n      <td>TV</td>\n      <td>28</td>\n      <td>Sep 2023</td>\n      <td>Mar 2024</td>\n      <td>557,553</td>\n      <td>9.14</td>\n    </tr>\n    <tr>\n      <th>1</th>\n      <td>2</td>\n      <td>Fullmetal Alchemist: Brotherhood</td>\n      <td>TV</td>\n      <td>64</td>\n      <td>Apr 2009</td>\n      <td>Jul 2010</td>\n      <td>3,310,183</td>\n      <td>9.09</td>\n    </tr>\n    <tr>\n      <th>2</th>\n      <td>3</td>\n      <td>Steins;Gate</td>\n      <td>TV</td>\n      <td>24</td>\n      <td>Apr 2011</td>\n      <td>Sep 2011</td>\n      <td>2,538,564</td>\n      <td>9.07</td>\n    </tr>\n    <tr>\n      <th>3</th>\n      <td>4</td>\n      <td>Gintama°</td>\n      <td>TV</td>\n      <td>51</td>\n      <td>Apr 2015</td>\n      <td>Mar 2016</td>\n      <td>624,001</td>\n      <td>9.06</td>\n    </tr>\n    <tr>\n      <th>4</th>\n      <td>5</td>\n      <td>Shingeki no Kyojin Season 3 Part 2</td>\n      <td>TV</td>\n      <td>10</td>\n      <td>Apr 2019</td>\n      <td>Jul 2019</td>\n      <td>2,244,066</td>\n      <td>9.05</td>\n    </tr>\n    <tr>\n      <th>...</th>\n      <td>...</td>\n      <td>...</td>\n      <td>...</td>\n      <td>...</td>\n      <td>...</td>\n      <td>...</td>\n      <td>...</td>\n      <td>...</td>\n    </tr>\n    <tr>\n      <th>2995</th>\n      <td>2996</td>\n      <td>Hengen Taima Yakou Karura Mau! Sendai Kokeshi ...</td>\n      <td>OVA</td>\n      <td>6</td>\n      <td>Sep 1990</td>\n      <td>Mar 1991</td>\n      <td>1,510</td>\n      <td>7.24</td>\n    </tr>\n    <tr>\n      <th>2996</th>\n      <td>2997</td>\n      <td>High School DxD Hero</td>\n      <td>TV</td>\n      <td>12</td>\n      <td>Apr 2018</td>\n      <td>Jul 2018</td>\n      <td>503,734</td>\n      <td>7.24</td>\n    </tr>\n    <tr>\n      <th>2997</th>\n      <td>2998</td>\n      <td>Beelzebub-jou no Okinimesu mama.</td>\n      <td>TV</td>\n      <td>12</td>\n      <td>Oct 2018</td>\n      <td>Dec 2018</td>\n      <td>96,428</td>\n      <td>7.23</td>\n    </tr>\n    <tr>\n      <th>2998</th>\n      <td>2999</td>\n      <td>Boku no Hero Academia: Sukue! Kyuujo Kunren!</td>\n      <td>OVA</td>\n      <td>1</td>\n      <td>Apr 2017</td>\n      <td>Apr 2017</td>\n      <td>180,091</td>\n      <td>7.23</td>\n    </tr>\n    <tr>\n      <th>2999</th>\n      <td>3000</td>\n      <td>Clannad Movie</td>\n      <td>Movie</td>\n      <td>1</td>\n      <td>Sep 2007</td>\n      <td>Sep 2007</td>\n      <td>175,769</td>\n      <td>7.23</td>\n    </tr>\n  </tbody>\n</table>\n<p>3000 rows × 8 columns</p>\n</div>"
     },
     "execution_count": 152,
     "metadata": {},
     "output_type": "execute_result"
    }
   ],
   "source": [
    "df = pd.DataFrame(top100_animes,columns=table_header_titles)\n",
    "df"
   ],
   "metadata": {
    "collapsed": false,
    "ExecuteTime": {
     "end_time": "2024-03-01T20:02:37.740352Z",
     "start_time": "2024-03-01T20:02:37.730778Z"
    }
   },
   "id": "c1e686230e295d9c",
   "execution_count": 152
  },
  {
   "cell_type": "code",
   "outputs": [],
   "source": [
    "df.to_csv('~/PycharmProjects/pythonProject/top100_animes.csv')"
   ],
   "metadata": {
    "collapsed": false,
    "ExecuteTime": {
     "end_time": "2024-03-01T20:02:37.754794Z",
     "start_time": "2024-03-01T20:02:37.741230Z"
    }
   },
   "id": "19692a4e2c9b9632",
   "execution_count": 153
  }
 ],
 "metadata": {
  "kernelspec": {
   "display_name": "Python 3",
   "language": "python",
   "name": "python3"
  },
  "language_info": {
   "codemirror_mode": {
    "name": "ipython",
    "version": 2
   },
   "file_extension": ".py",
   "mimetype": "text/x-python",
   "name": "python",
   "nbconvert_exporter": "python",
   "pygments_lexer": "ipython2",
   "version": "2.7.6"
  }
 },
 "nbformat": 4,
 "nbformat_minor": 5
}
