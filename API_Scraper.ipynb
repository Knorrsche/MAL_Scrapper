{
 "cells": [
  {
   "cell_type": "code",
   "execution_count": 80,
   "id": "initial_id",
   "metadata": {
    "collapsed": true,
    "ExecuteTime": {
     "end_time": "2024-03-03T19:42:39.722899Z",
     "start_time": "2024-03-03T19:42:39.719780Z"
    }
   },
   "outputs": [],
   "source": [
    "import requests\n",
    "import pandas as pd\n",
    "import re\n",
    "import json"
   ]
  },
  {
   "cell_type": "code",
   "outputs": [
    {
     "name": "stdout",
     "output_type": "stream",
     "text": [
      "{'data': {'mal_id': 2312, 'url': 'https://myanimelist.net/anime/2312/Daishizen_no_Majuu__Bagi', 'images': {'jpg': {'image_url': 'https://cdn.myanimelist.net/images/anime/9/56739.jpg', 'small_image_url': 'https://cdn.myanimelist.net/images/anime/9/56739t.jpg', 'large_image_url': 'https://cdn.myanimelist.net/images/anime/9/56739l.jpg'}, 'webp': {'image_url': 'https://cdn.myanimelist.net/images/anime/9/56739.webp', 'small_image_url': 'https://cdn.myanimelist.net/images/anime/9/56739t.webp', 'large_image_url': 'https://cdn.myanimelist.net/images/anime/9/56739l.webp'}}, 'trailer': {'youtube_id': None, 'url': None, 'embed_url': None, 'images': {'image_url': None, 'small_image_url': None, 'medium_image_url': None, 'large_image_url': None, 'maximum_image_url': None}}, 'approved': True, 'titles': [{'type': 'Default', 'title': 'Daishizen no Majuu: Bagi'}, {'type': 'Synonym', 'title': 'Daishizen no Majyu Bagi'}, {'type': 'Synonym', 'title': 'Daishizen no Majuu Bagi'}, {'type': 'Synonym', 'title': 'Taishizen no Makemono Bagi'}, {'type': 'Japanese', 'title': '大自然の魔獣 バギ'}, {'type': 'English', 'title': 'Bagi, the Monster of Mighty Nature'}], 'title': 'Daishizen no Majuu: Bagi', 'title_english': 'Bagi, the Monster of Mighty Nature', 'title_japanese': '大自然の魔獣 バギ', 'title_synonyms': ['Daishizen no Majyu Bagi', 'Daishizen no Majuu Bagi', 'Taishizen no Makemono Bagi'], 'type': 'TV Special', 'source': 'Original', 'episodes': 1, 'status': 'Finished Airing', 'airing': False, 'aired': {'from': '1984-08-19T00:00:00+00:00', 'to': None, 'prop': {'from': {'day': 19, 'month': 8, 'year': 1984}, 'to': {'day': None, 'month': None, 'year': None}}, 'string': 'Aug 19, 1984'}, 'duration': '1 hr 24 min', 'rating': 'PG-13 - Teens 13 or older', 'score': 6.38, 'scored_by': 1484, 'rank': 7342, 'popularity': 9473, 'members': 3420, 'favorites': 16, 'synopsis': 'Ryo is sent out by the people of a village to kill the monster which has been attacking the villagers. It is rumored that this monster is a cat-woman named Bagi. As Ryo waits for the monster to come to its watering hole, he thinks back to how he first met Bagi as a kitten who learned how to write, and later reenters his life on a quest to discover who and what she really is. But now she has gone wild, and as the time of her arrival approaches, he strengthens his resolve to kill her.\\n\\n(Source: ANN)', 'background': None, 'season': None, 'year': None, 'broadcast': {'day': None, 'time': None, 'timezone': None, 'string': None}, 'producers': [], 'licensors': [], 'studios': [{'mal_id': 200, 'type': 'anime', 'name': 'Tezuka Productions', 'url': 'https://myanimelist.net/anime/producer/200/Tezuka_Productions'}], 'genres': [{'mal_id': 1, 'type': 'anime', 'name': 'Action', 'url': 'https://myanimelist.net/anime/genre/1/Action'}, {'mal_id': 22, 'type': 'anime', 'name': 'Romance', 'url': 'https://myanimelist.net/anime/genre/22/Romance'}, {'mal_id': 24, 'type': 'anime', 'name': 'Sci-Fi', 'url': 'https://myanimelist.net/anime/genre/24/Sci-Fi'}], 'explicit_genres': [], 'themes': [], 'demographics': []}}\n"
     ]
    }
   ],
   "source": [
    "response = requests.get(\"https://api.jikan.moe/v4/anime/2312\")\n",
    "print(response.json())"
   ],
   "metadata": {
    "collapsed": false,
    "ExecuteTime": {
     "end_time": "2024-03-03T19:42:40.077342Z",
     "start_time": "2024-03-03T19:42:39.726467Z"
    }
   },
   "id": "735c79315ed272a6",
   "execution_count": 81
  },
  {
   "cell_type": "code",
   "outputs": [
    {
     "name": "stdout",
     "output_type": "stream",
     "text": [
      "['Daishizen no Majuu: Bagi', 'TV Special', 'Original', 1, 'Finished Airing', Timestamp('1984-08-19 00:00:00'), NaT]\n",
      "84\n",
      "1 hr 24 min\n"
     ]
    }
   ],
   "source": [
    "json_data = response.json()\n",
    "\n",
    "# json data consists of 'pagination' and 'data'\n",
    "headers = ['Title','Type','Source','Episodes','Status','Started At','Ended At','Duration in Minutes','']\n",
    "new_df = pd.DataFrame(columns=headers)\n",
    "new_df\n",
    "\n",
    "#for entry in json_data['data']:\n",
    "#    print(entry['titles'])\n",
    "\n",
    "json_data = json_data[\"data\"]\n",
    "\n",
    "# Find airing dates\n",
    "try:\n",
    "    from_date = pd.Timestamp(year=json_data['aired']['prop']['from']['year'],month=json_data['aired']['prop']['from']['month'],day=json_data['aired']['prop']['from']['day'])\n",
    "except TypeError:\n",
    "    from_date = pd.NaT\n",
    "\n",
    "try:\n",
    "    to_date = pd.Timestamp(year=json_data['aired']['prop']['to']['year'],month=json_data['aired']['prop']['to']['month'],day=json_data['aired']['prop']['to']['day'])\n",
    "except TypeError:\n",
    "    to_date = pd.NaT\n",
    "\n",
    "# Find duration    \n",
    "duration = 0;\n",
    "hours = re.findall(r'\\d+ ? h', json_data['duration'])\n",
    "if len(hours) > 0:\n",
    "    converted_hours = re.findall(r'\\d+',hours[0])\n",
    "    if len(converted_hours) > 0:\n",
    "        duration =+ int(converted_hours[0])*60\n",
    "        \n",
    "minutes = re.findall(r'\\d+ ?m', json_data['duration'])\n",
    "if len(minutes) > 0:\n",
    "    found_minutes = re.findall(r'\\d+',minutes[0])\n",
    "    if len(found_minutes) > 0:\n",
    "        duration+= int(found_minutes[0])\n",
    "\n",
    "    \n",
    "entry = [json_data['titles'][0]['title'], json_data['type'], json_data['source'], json_data['episodes'],\n",
    "         json_data['status'], from_date, to_date]\n",
    "\n",
    "print(entry)\n",
    "\n",
    "print(duration)\n",
    "print(json_data['duration'])\n",
    "\n",
    "\n"
   ],
   "metadata": {
    "collapsed": false,
    "ExecuteTime": {
     "end_time": "2024-03-03T19:54:46.376581Z",
     "start_time": "2024-03-03T19:54:46.364132Z"
    }
   },
   "id": "a2d3645b0e9a4fc5",
   "execution_count": 89
  },
  {
   "cell_type": "code",
   "outputs": [],
   "source": [],
   "metadata": {
    "collapsed": false
   },
   "id": "c40ff836d9cfe73a",
   "execution_count": null
  }
 ],
 "metadata": {
  "kernelspec": {
   "display_name": "Python 3",
   "language": "python",
   "name": "python3"
  },
  "language_info": {
   "codemirror_mode": {
    "name": "ipython",
    "version": 2
   },
   "file_extension": ".py",
   "mimetype": "text/x-python",
   "name": "python",
   "nbconvert_exporter": "python",
   "pygments_lexer": "ipython2",
   "version": "2.7.6"
  }
 },
 "nbformat": 4,
 "nbformat_minor": 5
}
